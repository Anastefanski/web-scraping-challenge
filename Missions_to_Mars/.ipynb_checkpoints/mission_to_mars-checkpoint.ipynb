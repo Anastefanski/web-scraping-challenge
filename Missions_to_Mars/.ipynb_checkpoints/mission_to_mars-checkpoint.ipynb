{
 "cells": [
  {
   "cell_type": "code",
   "execution_count": 53,
   "id": "216aa017-a5c8-498d-96e7-a6f82f1e1e55",
   "metadata": {},
   "outputs": [],
   "source": [
    "from splinter import Browser\n",
    "from bs4 import BeautifulSoup as soup\n",
    "import pandas as pd\n",
    "from webdriver_manager.chrome import ChromeDriverManager"
   ]
  },
  {
   "cell_type": "code",
   "execution_count": 54,
   "id": "7b609219-ab97-4b6b-90ce-c8407f821b2b",
   "metadata": {},
   "outputs": [
    {
     "name": "stderr",
     "output_type": "stream",
     "text": [
      "\n",
      "\n",
      "====== WebDriver manager ======\n",
      "Current google-chrome version is 92.0.4515\n",
      "Get LATEST driver version for 92.0.4515\n",
      "Driver [C:\\Users\\anast\\.wdm\\drivers\\chromedriver\\win32\\92.0.4515.107\\chromedriver.exe] found in cache\n"
     ]
    }
   ],
   "source": [
    "executable_path = {'executable_path': ChromeDriverManager().install()}\n",
    "browser = Browser('chrome', **executable_path, headless=False)"
   ]
  },
  {
   "cell_type": "code",
   "execution_count": 55,
   "id": "9656cd1c-b51b-431f-a088-0348f55ad145",
   "metadata": {},
   "outputs": [
    {
     "data": {
      "text/plain": [
       "\"NASA's Briefcase-Size MarCO Satellite Picks Up Honors\""
      ]
     },
     "execution_count": 55,
     "metadata": {},
     "output_type": "execute_result"
    }
   ],
   "source": [
    "#scrape for title and text\n",
    "url = 'https://redplanetscience.com/'\n",
    "browser.visit(url)\n",
    "browser.is_element_present_by_css('div.list_text', wait_time=1)\n",
    "html = browser.html\n",
    "news_soup = soup(html, 'html.parser')\n",
    "\n",
    "slide_elem = news_soup.select_one('div.list_text')\n",
    "slide_elem.find('div', class_='content_title').get_text()\n",
    "\n",
    "\n",
    "\n",
    "    "
   ]
  },
  {
   "cell_type": "code",
   "execution_count": 56,
   "id": "0c30ca4b-9b15-4e73-acc2-8bbd5c60bd49",
   "metadata": {},
   "outputs": [
    {
     "ename": "AttributeError",
     "evalue": "'NoneType' object has no attribute 'find'",
     "output_type": "error",
     "traceback": [
      "\u001b[1;31m---------------------------------------------------------------------------\u001b[0m",
      "\u001b[1;31mAttributeError\u001b[0m                            Traceback (most recent call last)",
      "\u001b[1;32m<ipython-input-56-c7d82bca149a>\u001b[0m in \u001b[0;36m<module>\u001b[1;34m\u001b[0m\n\u001b[0;32m     14\u001b[0m \u001b[1;33m\u001b[0m\u001b[0m\n\u001b[0;32m     15\u001b[0m \u001b[1;31m# --- get the image title found under the <a> tag ---\u001b[0m\u001b[1;33m\u001b[0m\u001b[1;33m\u001b[0m\u001b[1;33m\u001b[0m\u001b[0m\n\u001b[1;32m---> 16\u001b[1;33m \u001b[0mfeatured_image_title\u001b[0m \u001b[1;33m=\u001b[0m \u001b[0mcarousel\u001b[0m\u001b[1;33m.\u001b[0m\u001b[0mfind\u001b[0m\u001b[1;33m(\u001b[0m\u001b[1;34m'a'\u001b[0m\u001b[1;33m)\u001b[0m\u001b[1;33m[\u001b[0m\u001b[1;34m'data-title'\u001b[0m\u001b[1;33m]\u001b[0m\u001b[1;33m\u001b[0m\u001b[1;33m\u001b[0m\u001b[0m\n\u001b[0m\u001b[0;32m     17\u001b[0m \u001b[1;33m\u001b[0m\u001b[0m\n\u001b[0;32m     18\u001b[0m \u001b[1;31m# --- use splinter to click on the 'full image' button to retrieve a full-size jpg url ---\u001b[0m\u001b[1;33m\u001b[0m\u001b[1;33m\u001b[0m\u001b[1;33m\u001b[0m\u001b[0m\n",
      "\u001b[1;31mAttributeError\u001b[0m: 'NoneType' object has no attribute 'find'"
     ]
    }
   ],
   "source": [
    "\n",
    "# --- visit the JPL Featured Space Image website ---\n",
    "JPLimage_url = 'https://www.jpl.nasa.gov/spaceimages/?search=&category=Mars'\n",
    "browser.visit(JPLimage_url)\n",
    "\n",
    "\n",
    "# --- create HTML object ---\n",
    "html = browser.html\n",
    "\n",
    "# --- parse HTML with BeautifulSoup ---\n",
    "soup = soup(html, 'html.parser')\n",
    "\n",
    "# --- get the <div> with a class of 'carousel_container': this contains the current featured image details ---\n",
    "carousel = soup.find('div', class_='carousel_container')\n",
    "\n",
    "# --- get the image title found under the <a> tag ---\n",
    "featured_image_title = carousel.find('a')['data-title']\n",
    "\n",
    "# --- use splinter to click on the 'full image' button to retrieve a full-size jpg url ---\n",
    "browser.find_by_id('full_image').click()\n",
    "time.sleep(1)\n",
    "\n",
    "# --- check if the div with the 'more info' button is visible to proceed to the download page. If false: ---\n",
    "if browser.is_element_visible_by_css('div.fancybox-title') == False:\n",
    "    \n",
    "    # --- create the base url for the image from the carousel container ---\n",
    "    base_url = 'https://www.jpl.nasa.gov/'\n",
    "    \n",
    "    # --- get the image url found under the <a> tag in the carousel ---\n",
    "    image_url = carousel.find('a')['data-fancybox-href']\n",
    "    \n",
    "    # --- complete the featured image url by adding the base url ---\n",
    "    featuredimage_url = base_url + image_url\n",
    "\n",
    "# --- if the div is visible and there is a 'more info' button to proceed --- \n",
    "else:\n",
    "    \n",
    "    # --- create the base url for the fullsize image download link ---\n",
    "    base_url = 'https:'\n",
    "    \n",
    "    # --- click the 'more info' button to go to the image detail page ---\n",
    "    browser.links.find_by_partial_text('more info').click()\n",
    "    time.sleep(1)\n",
    "    \n",
    "    # --- create a beautiful soup object with the image detail page's html ---\n",
    "    img_detail_html = browser.html\n",
    "    imagesoup = BeautifulSoup(img_detail_html, 'html.parser')\n",
    "    \n",
    "    # --- find the fullsize jpg image link and store the url ---\n",
    "    download_div = imagesoup.find_all('div', class_='download_tiff')[1]\n",
    "    fullsize_img = download_div.find('a')['href']\n",
    "\n",
    "    # --- complete the featured image url by adding the base url ---\n",
    "    featuredimage_url = base_url + fullsize_img\n",
    "\n",
    "print(featuredimage_url)\n",
    "print(featuredimage_title)\n"
   ]
  },
  {
   "cell_type": "code",
   "execution_count": 58,
   "id": "5ac2025c-35e6-4086-aab1-ffcc7baf9a9a",
   "metadata": {},
   "outputs": [
    {
     "data": {
      "text/html": [
       "<div>\n",
       "<style scoped>\n",
       "    .dataframe tbody tr th:only-of-type {\n",
       "        vertical-align: middle;\n",
       "    }\n",
       "\n",
       "    .dataframe tbody tr th {\n",
       "        vertical-align: top;\n",
       "    }\n",
       "\n",
       "    .dataframe thead th {\n",
       "        text-align: right;\n",
       "    }\n",
       "</style>\n",
       "<table border=\"1\" class=\"dataframe\">\n",
       "  <thead>\n",
       "    <tr style=\"text-align: right;\">\n",
       "      <th></th>\n",
       "      <th>Description</th>\n",
       "      <th>Value</th>\n",
       "      <th>Value_2</th>\n",
       "    </tr>\n",
       "  </thead>\n",
       "  <tbody>\n",
       "    <tr>\n",
       "      <th>0</th>\n",
       "      <td>Mars - Earth Comparison</td>\n",
       "      <td>Mars</td>\n",
       "      <td>Earth</td>\n",
       "    </tr>\n",
       "    <tr>\n",
       "      <th>1</th>\n",
       "      <td>Diameter:</td>\n",
       "      <td>6,779 km</td>\n",
       "      <td>12,742 km</td>\n",
       "    </tr>\n",
       "    <tr>\n",
       "      <th>2</th>\n",
       "      <td>Mass:</td>\n",
       "      <td>6.39 × 10^23 kg</td>\n",
       "      <td>5.97 × 10^24 kg</td>\n",
       "    </tr>\n",
       "    <tr>\n",
       "      <th>3</th>\n",
       "      <td>Moons:</td>\n",
       "      <td>2</td>\n",
       "      <td>1</td>\n",
       "    </tr>\n",
       "    <tr>\n",
       "      <th>4</th>\n",
       "      <td>Distance from Sun:</td>\n",
       "      <td>227,943,824 km</td>\n",
       "      <td>149,598,262 km</td>\n",
       "    </tr>\n",
       "    <tr>\n",
       "      <th>5</th>\n",
       "      <td>Length of Year:</td>\n",
       "      <td>687 Earth days</td>\n",
       "      <td>365.24 days</td>\n",
       "    </tr>\n",
       "    <tr>\n",
       "      <th>6</th>\n",
       "      <td>Temperature:</td>\n",
       "      <td>-87 to -5 °C</td>\n",
       "      <td>-88 to 58°C</td>\n",
       "    </tr>\n",
       "  </tbody>\n",
       "</table>\n",
       "</div>"
      ],
      "text/plain": [
       "               Description            Value          Value_2\n",
       "0  Mars - Earth Comparison             Mars            Earth\n",
       "1                Diameter:         6,779 km        12,742 km\n",
       "2                    Mass:  6.39 × 10^23 kg  5.97 × 10^24 kg\n",
       "3                   Moons:                2                1\n",
       "4       Distance from Sun:   227,943,824 km   149,598,262 km\n",
       "5          Length of Year:   687 Earth days      365.24 days\n",
       "6             Temperature:     -87 to -5 °C      -88 to 58°C"
      ]
     },
     "execution_count": 58,
     "metadata": {},
     "output_type": "execute_result"
    }
   ],
   "source": [
    "# --- visit the Mars Facts website ---\n",
    "Mars_url = 'https://galaxyfacts-mars.com/'\n",
    "browser.visit(Mars_url)\n",
    "\n",
    "\n",
    "# --- create HTML object ---\n",
    "html = browser.html\n",
    "\n",
    "# --- use Pandas to scrape table of facts ---\n",
    "table = pd.read_html(html)\n",
    "\n",
    "# --- use indexing to slice the table to a dataframe ---\n",
    "facts_df = table[0]\n",
    "facts_df.columns =['Description', 'Value', 'Value_2']\n",
    "facts_df"
   ]
  },
  {
   "cell_type": "code",
   "execution_count": 59,
   "id": "006a21c6-8045-47e8-ab7c-998057f645ba",
   "metadata": {},
   "outputs": [],
   "source": [
    "MarsHemImage_url ='https://marshemispheres.com/'\n",
    "browser.visit(MarsHemImage_url)\n",
    "#create html object\n",
    "html = browser.html\n",
    "# --- parse HTML with BeautifulSoup ---\n",
    "soup = soup(html, 'html.parser')\n"
   ]
  },
  {
   "cell_type": "code",
   "execution_count": 63,
   "id": "affaf491-b70f-4943-873a-40cba56daa51",
   "metadata": {},
   "outputs": [
    {
     "ename": "AttributeError",
     "evalue": "ResultSet object has no attribute 'find'. You're probably treating a list of elements like a single element. Did you call find_all() when you meant to call find()?",
     "output_type": "error",
     "traceback": [
      "\u001b[1;31m---------------------------------------------------------------------------\u001b[0m",
      "\u001b[1;31mAttributeError\u001b[0m                            Traceback (most recent call last)",
      "\u001b[1;32m<ipython-input-63-a61df77d6e2e>\u001b[0m in \u001b[0;36m<module>\u001b[1;34m\u001b[0m\n\u001b[0;32m      1\u001b[0m \u001b[1;31m# --- retrieve all the parent div tags for each hemisphere ---\u001b[0m\u001b[1;33m\u001b[0m\u001b[1;33m\u001b[0m\u001b[1;33m\u001b[0m\u001b[0m\n\u001b[1;32m----> 2\u001b[1;33m \u001b[0mhemisphere_divs\u001b[0m \u001b[1;33m=\u001b[0m \u001b[0msoup\u001b[0m\u001b[1;33m.\u001b[0m\u001b[0mfind\u001b[0m\u001b[1;33m(\u001b[0m\u001b[1;34m'div'\u001b[0m\u001b[1;33m,\u001b[0m \u001b[0mclass_\u001b[0m\u001b[1;33m=\u001b[0m\u001b[1;34m\"item\"\u001b[0m\u001b[1;33m)\u001b[0m\u001b[1;33m\u001b[0m\u001b[1;33m\u001b[0m\u001b[0m\n\u001b[0m\u001b[0;32m      3\u001b[0m \u001b[1;33m\u001b[0m\u001b[0m\n\u001b[0;32m      4\u001b[0m \u001b[1;31m# --- create an empty list to store the python dictionary ---\u001b[0m\u001b[1;33m\u001b[0m\u001b[1;33m\u001b[0m\u001b[1;33m\u001b[0m\u001b[0m\n\u001b[0;32m      5\u001b[0m \u001b[0mhemisphere_image_data\u001b[0m \u001b[1;33m=\u001b[0m \u001b[1;33m[\u001b[0m\u001b[1;33m]\u001b[0m\u001b[1;33m\u001b[0m\u001b[1;33m\u001b[0m\u001b[0m\n",
      "\u001b[1;32m~\\Anaconda3\\envs\\dev\\lib\\site-packages\\bs4\\element.py\u001b[0m in \u001b[0;36m__getattr__\u001b[1;34m(self, key)\u001b[0m\n\u001b[0;32m   2172\u001b[0m         \u001b[1;34m\"\"\"Raise a helpful exception to explain a common code fix.\"\"\"\u001b[0m\u001b[1;33m\u001b[0m\u001b[1;33m\u001b[0m\u001b[0m\n\u001b[0;32m   2173\u001b[0m         raise AttributeError(\n\u001b[1;32m-> 2174\u001b[1;33m             \u001b[1;34m\"ResultSet object has no attribute '%s'. You're probably treating a list of elements like a single element. Did you call find_all() when you meant to call find()?\"\u001b[0m \u001b[1;33m%\u001b[0m \u001b[0mkey\u001b[0m\u001b[1;33m\u001b[0m\u001b[1;33m\u001b[0m\u001b[0m\n\u001b[0m\u001b[0;32m   2175\u001b[0m         )\n",
      "\u001b[1;31mAttributeError\u001b[0m: ResultSet object has no attribute 'find'. You're probably treating a list of elements like a single element. Did you call find_all() when you meant to call find()?"
     ]
    }
   ],
   "source": [
    "# --- retrieve all the parent div tags for each hemisphere --- \n",
    "hemisphere_divs = soup.find('div', class_=\"item\")\n",
    "\n",
    "# --- create an empty list to store the python dictionary ---\n",
    "hemisphere_image_data = []\n",
    "\n",
    "# --- loop through each div item to get hemisphere data ---\n",
    "for hemisphere in range(len(hemisphere_divs)):\n",
    "\n",
    "    # --- use splinter's browser to click on each hemisphere's link in order to retrieve image data ---\n",
    "    hem_link = browser.find_by_css(\"a.product-item h3\")\n",
    "    hem_link[hemisphere].click()\n",
    "    time.sleep(1)\n",
    "    \n",
    "    # --- create a beautiful soup object with the image detail page's html ---\n",
    "    img_detail_html = browser.html\n",
    "    imagesoup = BeautifulSoup(img_detail_html, 'html.parser')\n",
    "    \n",
    "    # --- create the base url for the fullsize image link ---\n",
    "    base_url = 'https://marshemispheres.com'\n",
    "    \n",
    "    # --- retrieve the full-res image url and save into a variable ---\n",
    "    hem_url = imagesoup.find('img', class_=\"wide-image\")['src']\n",
    "    \n",
    "    # --- complete the featured image url by adding the base url ---\n",
    "    img_url = base_url + hem_url\n",
    "\n",
    "    # --- retrieve the image title using the title class and save into variable ---\n",
    "    img_title = browser.find_by_css('.title').text\n",
    "    \n",
    "    # --- add the key value pairs to python dictionary and append to the list ---\n",
    "    hemisphere_image_data.append({\"title\": img_title,\n",
    "                              \"img_url\": img_url})\n",
    "    \n",
    "    # --- go back to the main page ---\n",
    "    browser.back()\n",
    "    \n",
    "# --- close the browser session ---    \n",
    "browser.quit()\n",
    "\n",
    "hemisphere_image_data"
   ]
  },
  {
   "cell_type": "code",
   "execution_count": null,
   "id": "ac63aa00-9202-460c-a6eb-b7c19ff8f46e",
   "metadata": {},
   "outputs": [],
   "source": []
  }
 ],
 "metadata": {
  "kernelspec": {
   "display_name": "Python 3",
   "language": "python",
   "name": "python3"
  },
  "language_info": {
   "codemirror_mode": {
    "name": "ipython",
    "version": 3
   },
   "file_extension": ".py",
   "mimetype": "text/x-python",
   "name": "python",
   "nbconvert_exporter": "python",
   "pygments_lexer": "ipython3",
   "version": "3.7.10"
  }
 },
 "nbformat": 4,
 "nbformat_minor": 5
}
